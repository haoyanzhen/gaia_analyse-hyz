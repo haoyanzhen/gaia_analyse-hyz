{
 "cells": [
  {
   "cell_type": "code",
   "execution_count": 1,
   "metadata": {},
   "outputs": [],
   "source": [
    "import numpy as np\n",
    "import pandas as pd\n",
    "import matplotlib.pyplot as plt"
   ]
  },
  {
   "cell_type": "code",
   "execution_count": 2,
   "metadata": {},
   "outputs": [],
   "source": [
    "a = np.array([[1,2],[3,4]])"
   ]
  },
  {
   "cell_type": "code",
   "execution_count": 20,
   "metadata": {},
   "outputs": [],
   "source": [
    "data_edge = np.load('gaia_mag_parallax_distribution_0.1_0.1.edge.npy',allow_pickle=True)"
   ]
  },
  {
   "cell_type": "code",
   "execution_count": 21,
   "metadata": {},
   "outputs": [],
   "source": [
    "range=[[30,180],[0,1250]]\n",
    "value_range = (data_edge[0][range[0]][0],data_edge[0][range[0]][1],data_edge[1][range[1]][0],data_edge[1][range[1]][1])"
   ]
  },
  {
   "cell_type": "code",
   "execution_count": 25,
   "metadata": {},
   "outputs": [
    {
     "data": {
      "text/plain": [
       "25.0"
      ]
     },
     "execution_count": 25,
     "metadata": {},
     "output_type": "execute_result"
    }
   ],
   "source": [
    "data_edge[0][data_edge[0].size-1]"
   ]
  },
  {
   "cell_type": "code",
   "execution_count": 27,
   "metadata": {},
   "outputs": [
    {
     "data": {
      "text/plain": [
       "True"
      ]
     },
     "execution_count": 27,
     "metadata": {},
     "output_type": "execute_result"
    }
   ],
   "source": [
    "type('int') is str"
   ]
  },
  {
   "cell_type": "markdown",
   "metadata": {},
   "source": [
    "fit"
   ]
  },
  {
   "cell_type": "code",
   "execution_count": null,
   "metadata": {},
   "outputs": [],
   "source": [
    "from scipy.optimize import curve_fit\n",
    "\n",
    "x = np.load('gaia_fullsky_mag_density_allband_clear_1_001_2-25.edge.npy')\n",
    "y = np.load('gaia_fullsky_mag_density_allband_clear_1_001_2-25.npy')"
   ]
  },
  {
   "cell_type": "code",
   "execution_count": null,
   "metadata": {},
   "outputs": [],
   "source": [
    "x = x[3][::10]\n",
    "y = y[0].sum(axis=0).sum(axis=0)\n",
    "y = y.reshape(-1,10).sum(axis=1)\n"
   ]
  },
  {
   "cell_type": "code",
   "execution_count": null,
   "metadata": {},
   "outputs": [],
   "source": [
    "def broken_linear(x,k1,k2,b1,b2,p):\n",
    "    return np.piecewise(x,condlist=[x>=p,x<p],funclist=[lambda x:k1*x+b1, lambda x:k2*x+b2])\n",
    "    # return base*x+b\n",
    "\n",
    "x = de1[2][:-1][500:1800]\n",
    "y = np.log10(d1[0,:,:,:].sum(axis=0).sum(axis=0))\n",
    "y[np.isinf(y)]=-1e20\n",
    "y = y[500:1800]\n",
    "p0 = [10,0]\n",
    "# p0 = [10,1,0]\n",
    "para,cov = curve_fit(logfit,x,y,p0,)\n",
    "para,cov"
   ]
  }
 ],
 "metadata": {
  "kernelspec": {
   "display_name": "Python 3.10.8 ('test')",
   "language": "python",
   "name": "python3"
  },
  "language_info": {
   "codemirror_mode": {
    "name": "ipython",
    "version": 3
   },
   "file_extension": ".py",
   "mimetype": "text/x-python",
   "name": "python",
   "nbconvert_exporter": "python",
   "pygments_lexer": "ipython3",
   "version": "3.10.8"
  },
  "orig_nbformat": 4,
  "vscode": {
   "interpreter": {
    "hash": "8063469fe62b6ac424556d8c313cac6a8cdee35323e7b10101ea301c40449f3d"
   }
  }
 },
 "nbformat": 4,
 "nbformat_minor": 2
}
